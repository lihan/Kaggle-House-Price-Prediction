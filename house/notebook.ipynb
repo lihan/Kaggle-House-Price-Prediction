{
  "cells": [
    {
      "metadata": {
        "scrolled": true,
        "_cell_guid": "e64c1a7c-74ad-4f2e-a41b-c33c69384806",
        "collapsed": true,
        "_uuid": "e8117a070a0fadd15ab6ea25f3b36b9c03b6c0bc",
        "trusted": false
      },
      "cell_type": "code",
      "source": "import numpy as np\nimport pandas as pd\nimport scipy.stats   \nimport scipy.special  \nimport subprocess\nimport sklearn.linear_model\nimport sklearn.model_selection\nimport sklearn.pipeline  \nimport sklearn.preprocessing\nimport sklearn.ensemble  \nimport sklearn.kernel_ridge \nimport tensorflow as tf\n\nimport matplotlib.pyplot as plt\n%matplotlib inline\nimport seaborn as sns\n\ncolor = sns.color_palette()\nsns.set_style('darkgrid')\n\npd.set_option('display.max_columns', 1000)\npd.set_option('display.max_rows', 100)",
      "execution_count": null,
      "outputs": []
    },
    {
      "metadata": {
        "_cell_guid": "abda6820-3121-4a27-91c0-1fb930911ea1",
        "_uuid": "4fcf02bc9110299bb90780b40f26a98b41d91f39"
      },
      "cell_type": "markdown",
      "source": "Load data"
    },
    {
      "metadata": {
        "_cell_guid": "93c7db2b-b738-476b-afb8-3d96aec8b6c9",
        "_uuid": "8b0ec040c65392d9a6fdfab5eee38a1a1ecd05cc",
        "trusted": false,
        "collapsed": true
      },
      "cell_type": "code",
      "source": "train_df = pd.read_csv(\"../input/train.csv\")\ntest_df = pd.read_csv(\"../input/train.csv\")\ndf = pd.concat([train_df, test_df])\nprint('train_df shape: ', train_df.shape)\nprint('test_df shape: ', test_df.shape)\nprint('df shape: ', df.shape)",
      "execution_count": null,
      "outputs": []
    },
    {
      "metadata": {
        "_cell_guid": "2e5aa97f-4db0-42d0-ac14-969a3680ba4c",
        "_uuid": "de2d6c218f2cced0320d599200640d1bfafe9ca2"
      },
      "cell_type": "markdown",
      "source": "## Explore data\n \n * Data types\n * Sparsity\n * Data distributions"
    },
    {
      "metadata": {
        "scrolled": true,
        "_cell_guid": "98229fe0-c3bb-4d5e-ab16-c89b5a7279c3",
        "_uuid": "7408af6e14835d78de5a4f4363ecee4f3a0715a8",
        "trusted": false,
        "collapsed": true
      },
      "cell_type": "code",
      "source": "df.columns",
      "execution_count": null,
      "outputs": []
    },
    {
      "metadata": {
        "scrolled": true,
        "_cell_guid": "e72cb85c-8242-4741-bd7c-27d95d61d583",
        "_uuid": "e8b7a8b20b1ee1bd631d0ec35777fcde36220f86",
        "trusted": false,
        "collapsed": true
      },
      "cell_type": "code",
      "source": "df.dtypes",
      "execution_count": null,
      "outputs": []
    },
    {
      "metadata": {
        "_cell_guid": "befa13f2-c1df-434f-a3e7-6d056e6aa9db",
        "_uuid": "4af7dd3308a64734eff3985f439f4a6c5cee1348",
        "trusted": false,
        "collapsed": true
      },
      "cell_type": "code",
      "source": "df.head(3)",
      "execution_count": null,
      "outputs": []
    },
    {
      "metadata": {
        "_cell_guid": "4b2046aa-9f87-4af1-ae5d-54eef3b32f57",
        "_uuid": "e62eeede94a637d1e53a674b40086b4c68bb648d",
        "trusted": false,
        "collapsed": true
      },
      "cell_type": "code",
      "source": "print(train_df['SalePrice'].describe())\n\nprint('Medium value is ', train_df['SalePrice'].median())\nsns.distplot(train_df['SalePrice'], fit=scipy.stats.norm)",
      "execution_count": null,
      "outputs": []
    },
    {
      "metadata": {
        "_cell_guid": "6bc0a284-0118-4089-b96a-4bb42abe571e",
        "_uuid": "b9575b3d0b8157d93c82fc05b6ac3e85834d90c3"
      },
      "cell_type": "markdown",
      "source": "Data Sparsity"
    },
    {
      "metadata": {
        "scrolled": true,
        "_cell_guid": "da3c8f10-d44c-40d7-a7ab-e0f6aaad1034",
        "_uuid": "b4ff6c61b0d7d12e2a432339635a443a6270dae1",
        "trusted": false,
        "collapsed": true
      },
      "cell_type": "code",
      "source": "print(df.isnull().sum())\ncols_with_missing = [col for col in df.columns \n                                 if df[col].isnull().any()]\nprint(\"Columns with missing features: \",  cols_with_missing)",
      "execution_count": null,
      "outputs": []
    },
    {
      "metadata": {
        "_cell_guid": "6329a19f-662b-477d-a036-ba2a7e7a80cc",
        "_uuid": "5a6edb20dbc7bbf05d70548be6a8168c3f572c62"
      },
      "cell_type": "markdown",
      "source": "## Treat null values"
    },
    {
      "metadata": {
        "_cell_guid": "54abb036-ca2d-419c-9caa-1a9903336ab2",
        "collapsed": true,
        "_uuid": "609a1d412386ac398a2f34d5f150ff40795898c7",
        "trusted": false
      },
      "cell_type": "code",
      "source": "imputer = sklearn.preprocessing.Imputer()",
      "execution_count": null,
      "outputs": []
    },
    {
      "metadata": {
        "_cell_guid": "b8e6f9b1-748b-4636-afe0-228e87422a75",
        "collapsed": true,
        "_uuid": "4fce11b8bdc91a52d5ac171a19fe5fc8fd0c8f76",
        "trusted": false
      },
      "cell_type": "code",
      "source": "# Drop columns where large number of values are null\ncolumns_to_drop = ['PoolQC', 'Fence', 'MiscFeature', 'Alley']\ndf = df.drop(columns_to_drop, axis=1)",
      "execution_count": null,
      "outputs": []
    },
    {
      "metadata": {
        "_cell_guid": "e1478d47-a734-46d0-b1c9-52376f358b0a",
        "collapsed": true,
        "_uuid": "7df93dfaaed41e88a75b61cc320f675c3a486e53",
        "trusted": false
      },
      "cell_type": "code",
      "source": "",
      "execution_count": null,
      "outputs": []
    },
    {
      "metadata": {
        "_cell_guid": "86cdca87-5c40-4af1-b527-164463fb931b",
        "collapsed": true,
        "_uuid": "64a9098ebbb1df068d2c87c1269df32587214e8e",
        "trusted": false
      },
      "cell_type": "code",
      "source": "from sklearn.preprocessing import Imputer\nmy_imputer = Imputer()\ndf[['LotFrontage']] = my_imputer.fit_transform(df[['LotFrontage']])",
      "execution_count": null,
      "outputs": []
    },
    {
      "metadata": {
        "_cell_guid": "746e1a51-c545-4a73-b48f-ae2a2ed21fae",
        "_uuid": "746054349f8b97922abc6d97442633b8cb3393c0",
        "trusted": false,
        "collapsed": true
      },
      "cell_type": "code",
      "source": "print(df.isnull().sum())",
      "execution_count": null,
      "outputs": []
    },
    {
      "metadata": {
        "_cell_guid": "0eec0a98-b9e3-4982-b8a0-f0dc560d60eb",
        "collapsed": true,
        "_uuid": "c55d218c270b01b63525a9ccad70b1275b518c68",
        "trusted": false
      },
      "cell_type": "code",
      "source": "df[['MasVnrType']] = df[['MasVnrType']].fillna(value='None')\ndf[['MasVnrArea']] = df[['MasVnrArea']].fillna(value=0)\n\ndf[['BsmtQual']] = df[['BsmtQual']].fillna(value='None')\ndf[['BsmtCond']] = df[['BsmtCond']].fillna(value=0)\n\ndf[['BsmtExposure']] = df[['BsmtExposure']].fillna(value='NA')\ndf[['BsmtFinType1']] = df[['BsmtFinType1']].fillna(value='NA')\ndf[['BsmtFinType2']] = df[['BsmtFinType2']].fillna(value='NA')\n\n# Only 2 missing values, drop it\ndf = df.dropna(subset=['Electrical'], how='all')\n\ndf[['FireplaceQu']] = df[['FireplaceQu']].fillna(value='NA')\n\ndf[['GarageType']] = df[['GarageType']].fillna(value='NA')\ndf[['GarageFinish']] = df[['GarageFinish']].fillna(value='NA')\ndf[['GarageQual']] = df[['GarageQual']].fillna(value='NA')\ndf[['GarageCond']] = df[['GarageCond']].fillna(value='NA')\ndf[['GarageYrBlt']] = df[['GarageYrBlt']].fillna(value=0)",
      "execution_count": null,
      "outputs": []
    },
    {
      "metadata": {
        "_cell_guid": "abb055e8-07c9-47e8-87e2-d9a6a67429e8",
        "collapsed": true,
        "_uuid": "5e294d6bcd5a256fb83815f212bd05be1977bfbd",
        "trusted": false
      },
      "cell_type": "code",
      "source": "df['MSSubClass'] = df['MSSubClass'].apply(str)\ndf['OverallCond'] = df['OverallCond'].astype(str)\ndf['YrSold'] = df['YrSold'].astype(str)\ndf['MoSold'] = df['MoSold'].astype(str)\n",
      "execution_count": null,
      "outputs": []
    },
    {
      "metadata": {
        "_cell_guid": "f7d8efc4-92fe-47fc-b22f-32b3eebf4604",
        "_uuid": "693693a975469c51fd151ec9c38e0b153d0e715a",
        "trusted": false,
        "collapsed": true
      },
      "cell_type": "code",
      "source": "# categorial features\ncols = ('FireplaceQu', 'BsmtQual', 'BsmtCond', 'GarageQual', 'GarageCond', \n        'ExterQual', 'ExterCond','HeatingQC', 'KitchenQual', 'BsmtFinType1', \n        'BsmtFinType2', 'Functional', 'BsmtExposure', 'GarageFinish', 'LandSlope',\n        'LotShape', 'PavedDrive', 'Street', 'CentralAir', 'MSSubClass', 'OverallCond', \n        'YrSold', 'MoSold')\n\n# apply sklearn.preprocessing.LabelEncoder to each categorical feature\nfor c in cols:\n    lbl = sklearn.preprocessing.LabelEncoder() \n    lbl.fit(list(df[c].values)) \n    df[c] = lbl.transform(list(df[c].values))\n\n# shape        \nprint('data_df.shape = ', df.shape)",
      "execution_count": null,
      "outputs": []
    },
    {
      "metadata": {
        "_cell_guid": "a800eec0-bc91-405b-affa-8ee09883fe63",
        "collapsed": true,
        "_uuid": "93786105ebdc4383d8e6cbd9920fcdf24055db15",
        "trusted": false
      },
      "cell_type": "code",
      "source": "cols = df.select_dtypes(exclude =[np.number]).columns.values\ndf  = pd.get_dummies(df).copy()",
      "execution_count": null,
      "outputs": []
    },
    {
      "metadata": {
        "_cell_guid": "5f8e201f-64d1-41ee-893b-aae47d4dfcdb",
        "collapsed": true,
        "_uuid": "54a8a4cd8a96bb6cf8fd10ef42984f93650cadd0",
        "trusted": false
      },
      "cell_type": "code",
      "source": "train_df = df[: train_df.shape[0]]\ntrain_df_y = train_df[['SalePrice']]\ntrain_df = train_df.drop('SalePrice', axis=1)",
      "execution_count": null,
      "outputs": []
    },
    {
      "metadata": {
        "_cell_guid": "ec77d5b6-a87c-41c8-b42d-b7c648ea8f5d",
        "collapsed": true,
        "_uuid": "017545fda4a422d50872da4b1e2c2b3aee9042e1",
        "trusted": false
      },
      "cell_type": "code",
      "source": "test_df = df[train_df.shape[0]-1:]\ntest_df = test_df.drop('SalePrice', axis=1)",
      "execution_count": null,
      "outputs": []
    },
    {
      "metadata": {
        "_cell_guid": "525e1186-f11d-4f3d-9f19-366c0e66db6e",
        "_uuid": "dfdeb6559245ac60155ef0459854b453060515a7",
        "trusted": false,
        "collapsed": true
      },
      "cell_type": "code",
      "source": "test_df.shape",
      "execution_count": null,
      "outputs": []
    },
    {
      "metadata": {
        "_cell_guid": "1cd87350-f8ac-4b3a-bcb8-6010f83cd1a8",
        "_uuid": "46f0b9d89c2d2ab01867de5df6e51f259affcb7f",
        "trusted": false,
        "collapsed": true
      },
      "cell_type": "code",
      "source": "test_df.loc[-1:]",
      "execution_count": null,
      "outputs": []
    },
    {
      "metadata": {
        "_cell_guid": "6c260a8b-cd49-4232-8b27-804b33a10a0c",
        "collapsed": true,
        "_uuid": "a54fea6d8c9a7ce69998d1c2b8b7c598d85af099",
        "trusted": false
      },
      "cell_type": "code",
      "source": "kfold = sklearn.model_selection.KFold(5, shuffle=True)",
      "execution_count": null,
      "outputs": []
    },
    {
      "metadata": {
        "_cell_guid": "5e62f40e-aa8b-4137-9658-49a1d2dac8d9",
        "collapsed": true,
        "_uuid": "597c41154e160bac43ff30fa7177703ce125b132",
        "trusted": false
      },
      "cell_type": "code",
      "source": "model = sklearn.ensemble.GradientBoostingRegressor(\n    n_estimators=10000, \n    learning_rate=0.01,                \n    max_depth=5,\n    max_features='sqrt',\n    min_samples_leaf=15, \n    min_samples_split=10,\n    loss='huber', \n    random_state=5\n)",
      "execution_count": null,
      "outputs": []
    },
    {
      "metadata": {
        "scrolled": false,
        "_cell_guid": "a0b61e71-67a9-47ea-a0f1-9950ff3107ab",
        "_uuid": "7501b0243a54b14a240b5fc61f2f896bed61f6ab",
        "trusted": false,
        "collapsed": true
      },
      "cell_type": "code",
      "source": "model.fit(train_df, train_df_y.values.ravel())",
      "execution_count": null,
      "outputs": []
    },
    {
      "metadata": {
        "_cell_guid": "88269ea8-659e-4f67-b00e-26cac73415b7",
        "collapsed": true,
        "_uuid": "a55a70beeeabe7799422bb8cdcc832ad846d4452",
        "trusted": false
      },
      "cell_type": "code",
      "source": "predictions = model.predict(test_df)",
      "execution_count": null,
      "outputs": []
    },
    {
      "metadata": {
        "_cell_guid": "0fdb9893-c244-48d6-831b-7f5c4ffe4cf7",
        "_uuid": "9b784bf01daef30e7c21a3f3a2ea7ac2c55cc096",
        "trusted": false,
        "collapsed": true
      },
      "cell_type": "code",
      "source": "submission = pd.DataFrame()\nsubmission['Id'] = test_df['Id']\nsubmission['SalePrice'] = predictions\nsubmission.to_csv('submission3.csv', index=False)\nsubmission.head(5)",
      "execution_count": null,
      "outputs": []
    },
    {
      "metadata": {
        "_cell_guid": "eb9d201d-8a76-4d83-8712-6944a6eb3b3b",
        "collapsed": true,
        "_uuid": "84f40f1b93749445a69c696642fb4f5dc996495e",
        "trusted": false
      },
      "cell_type": "code",
      "source": "",
      "execution_count": null,
      "outputs": []
    },
    {
      "metadata": {
        "_cell_guid": "01e53411-6a0b-450a-b687-85d1c7ef1340",
        "collapsed": true,
        "_uuid": "2caaef451a6e24d845bb20da850b6d391acf8ed0",
        "trusted": false
      },
      "cell_type": "code",
      "source": "",
      "execution_count": null,
      "outputs": []
    },
    {
      "metadata": {
        "_cell_guid": "51b95e12-79fb-4591-8de3-8d74c8ad244c",
        "collapsed": true,
        "_uuid": "a4418ef903c3fc856696b04d473f023d1403ecad",
        "trusted": false
      },
      "cell_type": "code",
      "source": "",
      "execution_count": null,
      "outputs": []
    },
    {
      "metadata": {
        "_cell_guid": "d1c2873f-a620-4992-8fc2-d4b8518e6fe6",
        "collapsed": true,
        "_uuid": "e681ccf8e84b30eeb8a3aa723bb87d7dd398c91c",
        "trusted": false
      },
      "cell_type": "code",
      "source": "",
      "execution_count": null,
      "outputs": []
    }
  ],
  "metadata": {
    "language_info": {
      "codemirror_mode": {
        "name": "ipython",
        "version": 3
      },
      "pygments_lexer": "ipython3",
      "name": "python",
      "nbconvert_exporter": "python",
      "file_extension": ".py",
      "version": "3.6.4",
      "mimetype": "text/x-python"
    },
    "kernelspec": {
      "display_name": "Python 3",
      "language": "python",
      "name": "python3"
    }
  },
  "nbformat": 4,
  "nbformat_minor": 1
}